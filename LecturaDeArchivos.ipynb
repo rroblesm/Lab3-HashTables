{
 "cells": [
  {
   "cell_type": "markdown",
   "id": "05d5112f",
   "metadata": {},
   "source": [
    "# 0. Librerias necesarias"
   ]
  },
  {
   "cell_type": "code",
   "execution_count": null,
   "id": "0f02fd9d",
   "metadata": {},
   "outputs": [],
   "source": []
  },
  {
   "cell_type": "code",
   "execution_count": null,
   "id": "47065f6c",
   "metadata": {},
   "outputs": [],
   "source": []
  },
  {
   "cell_type": "code",
   "execution_count": null,
   "id": "42e582d5",
   "metadata": {},
   "outputs": [],
   "source": []
  },
  {
   "cell_type": "markdown",
   "id": "14a12f6a",
   "metadata": {},
   "source": [
    "# 1. Implementacion de Hash Table (Por Elmer)"
   ]
  },
  {
   "cell_type": "markdown",
   "id": "13a04296",
   "metadata": {},
   "source": [
    "Uno de los puntos importantes a considerar cuando se utilizan las tablas de \n",
    "hash, mencionado en dicha discusión teórica, es el manejo de colisiones.\n",
    "\n",
    "Para esta práctica se \n",
    "tendrá que utilizar el método conocido como \"encadenamiento separado\", también explicado \n",
    "abajo, para el manejo de colisiones. Otro punto importante a considerar es la función de hash que \n",
    "se va a utilizar. Cuál es la más apropiada depende de las características de los datos que se van a \n",
    "almacenar en la tabla de hash."
   ]
  },
  {
   "cell_type": "code",
   "execution_count": 1,
   "id": "75806001",
   "metadata": {},
   "outputs": [],
   "source": [
    "import hashlib"
   ]
  },
  {
   "cell_type": "code",
   "execution_count": 21,
   "id": "16fc56b2",
   "metadata": {},
   "outputs": [],
   "source": [
    "class NodoHash:\n",
    "    def __init__(self, dato = None, llave=None): \n",
    "        self.llave = llave\n",
    "        self.dato = dato\n",
    "        self.siguiente = None\n",
    "#    def getDato(self):\n",
    "#        return self.dato\n",
    "#    def setDato(self,nuevoDato):\n",
    "#        self.dato = nuevoDato\n",
    "#    def getSiguiente(self):\n",
    "#        return self.siguiente\n",
    "#    def setSiguiente(self,nuevoSig):\n",
    "#        self.siguiente = nuevoSig\n",
    "# No es necesario, en Python todo es global#\n",
    "        \n",
    "class tabla_hash:\n",
    "    \"\"\"el constructor tiene 4 atributos:\n",
    "    cont, que indica cuantos elementos hemos ingresado a la tabla \n",
    "        (Ojo, no significa cuantos espacios hay ocupados, ya que si la funcion hash tiene un problema, pudieramos tener muchos datos enlazados)\n",
    "    factor_de_carga es el parametro que nos indica que tan llena va una tabla con relacion al numero de espacios disponibles\n",
    "    \n",
    "    tabla es donde se guardan los datos    \n",
    "    \n",
    "    \"\"\"\n",
    "    def __init__(self, tam=100):\n",
    "        self.cont = 0\n",
    "        self.factor_de_carga = 0.80\n",
    "        self.tam = tam\n",
    "        self.tabla = [None for i in range(0, self.tam)]\n",
    "        \n",
    "\n",
    "    def insertar(self,dato):\n",
    "        llave = self.funcion_hash(dato)\n",
    "        nuevo = NodoHash(dato, llave)\n",
    "        \n",
    "        if(self.tabla[llave] is None):\n",
    "            self.tabla[llave] = nuevo\n",
    "            self.cont += 1\n",
    "        #No es necesario checar el factor de carga en caso de que no haya colision\n",
    "        #Si sirvio eficientemente, ¿Para que moverle?\n",
    "\n",
    "        else: #existe un elemento en espacio[llave], ie, colision\n",
    "            if ( (self.cont/self.tam) > factor_de_carga):\n",
    "                expander()\n",
    "                insertar(dato) #vuelve a insertar; tal vez ya no existira colision\n",
    "            else: #colision, pero no se ha superado el factor de carga\n",
    "                nodo_encadenado = self.tabla[llave]\n",
    "                while(nodo_encadenado.siguiente is not None):\n",
    "                    nodo_encadenado = self.tabla[llave].siguiente\n",
    "                \n",
    "                nodo_encadenado.siguiente = nuevo\n",
    "                self.cont +=1\n",
    "                \n",
    "    def expande(self):\n",
    "        self.tam *= 2\n",
    "        \n",
    "        nueva_tabla = [None for i in range(0, self.tam)]\n",
    "        \n",
    "        for elemento in self.tabla:\n",
    "            if(elemento is not None):\n",
    "                #manejando encadenados\n",
    "                nodo_encadenado = elemento.siguiente\n",
    "                while(nodo_encadenado is not None):\n",
    "                    llave = funcion_hash(nodo_encadenado.dato)\n",
    "                    if(nueva_tabla[llave] is None):\n",
    "                        nueva_tabla[llave] = nodo_encadenado\n",
    "                    else:\n",
    "                        espacio_en_nueva_tabla_encadenado = nueva_tabla[llave].siguiente\n",
    "                        while(espacio_en_nueva_tabla_encadenado.siguiente is not None):\n",
    "                            espacio_en_nueva_tabla_encadenado = espacio_en_nueva_tabla_encadenado.siguiente\n",
    "                        espacio_en_nueva_tabla_encadenado.siguiente(nodo_encadenado)\n",
    "\n",
    "                        \n",
    "                    nodo_encadenado = elemento.siguiente\n",
    "\n",
    "                #ya salimos del while, ie, estamos trabajando con un elemento sin siguientes \n",
    "                #o ya mandamos los siguientesa otro lado    \n",
    "                llave = funcion_hash(elemento.dato)\n",
    "                if(nueva_tabla[llave] is None):\n",
    "                    nueva_tabla[llave] = elemento\n",
    "                else: #colision en la nueva tabla!\n",
    "                    nodo_encadenado = tabla[llave]\n",
    "                    while(nodo_encadenado.siguiente is not None):\n",
    "                        nodo_encadenado = nodo_encadenado.siguiente\n",
    "\n",
    "                    nodo_encadenado.siguiente = elemento\n",
    "\n",
    "        self.tabla = nueva_tabla\n",
    "               \n",
    "                \n",
    "                \n",
    "                \n",
    "    def busca(self,dato):\n",
    "        llave = funcion_hash(dato)\n",
    "        \n",
    "        #lo puse aparte porque esperaria que el encadenamiento fuera la excepcion\n",
    "        if(self.tabla[llave].dato == dato):\n",
    "            return True\n",
    "        else:\n",
    "            if(self.tabla[llave] is not None): #existe algo en la posicion del hash, pero no es el dato\n",
    "                    if(self.tabla[llave].siguiente is not None): #ademas tiene datos siguientes\n",
    "                        nodo_iterado = tabla[llave]\n",
    "                        while (nodo_iterado.siguiente is not None) and (nodo_iterado.dato is not dato):\n",
    "                            nodo_iterado = nodo_iterado.siguiente\n",
    "                    return nodo_iterado.dato == dato #regresara falso o verdadero\n",
    "            else: #no hay nada mas, y no coincidio el dato con el hash, ie, falso positivo\n",
    "                return False\n",
    "            \n",
    "\n",
    "    def borra(self, dato): \n",
    "        llave = funcion_hash(elemento.dato)\n",
    "\n",
    "        if(self.tabla[llave].dato == dato):\n",
    "            self.tabla[llave]=None\n",
    "        else:\n",
    "            if(self.tabla[llave] is not None): #existe algo en la posicion del hash que no es el dato a borrar\n",
    "                    if(self.tabla[llave].siguiente is not None):#ademas tiene siguientes\n",
    "                        anterior = self.tabla[llave]\n",
    "                        actual = self.tabla[llave].siguiente\n",
    "\n",
    "                        while(actual is not None):\n",
    "                            if(actual.dato == dato):\n",
    "                                anterior.siguiente = actual.siguiente\n",
    "                                actual = None\n",
    "                                self.cont -= 1\n",
    "\n",
    "            else: #no hay nada en el hash\n",
    "                print(\"No existe tal dato\")\n",
    "\n",
    "                \n",
    "    def funcion_hash(self, dato):\n",
    "        return int(hashlib.md5(str(dato).encode('utf-8')).hexdigest(), base=16) % self.tam\n",
    "        \n",
    "#tomo el dato, lo codifico a formato utf-8 para que pueda ser procesado por el metodo MD5\n",
    "#despues hago ese en base hexadecimal, y ese numero hexadecimal lo convierto a base 10\n",
    "#por ultimo, se usa la operacion modulo para asegurar que quepa en la tabla\n",
    "\n",
    "#¿Por que tanto rollo y no usar la funcion hash() inherente a python?\n",
    "#Porque no es deterministica, y eso nos puede traer muchos problemas\n",
    "        \n",
    "        \n",
    "        \n",
    "    def __str__(self):\n",
    "        cadena=\"\"\n",
    "        contador=0\n",
    "        for i in self.tabla:\n",
    "            contador += 1\n",
    "            if(i is not None):\n",
    "                cadena += (str(contador) + \":\" +str(i.dato) + \"\\n\")\n",
    "                \n",
    "                nodo_iterado = i.siguiente\n",
    "                while(nodo_iterado is not None):\n",
    "                    cadena += (str(contador) + \":\" +str(i.dato) + \"\\n\")\n",
    "                    nodo_iterado = nodo_iterado.siguiente\n",
    "        \n",
    "        return cadena"
   ]
  },
  {
   "cell_type": "code",
   "execution_count": 22,
   "id": "87a104b2",
   "metadata": {},
   "outputs": [],
   "source": [
    "miTablita = tabla_hash()\n",
    "miTablita.tam\n",
    "\n",
    "miTablita.insertar(\"Ruben\")\n",
    "miTablita.insertar(\"Rafa\")\n",
    "miTablita.insertar(\"Paco\")\n",
    "miTablita.insertar(\"Ernesto\")\n",
    "miTablita.insertar(\"Sebastian\")\n",
    "miTablita.insertar(\"Pato\")\n",
    "miTablita.insertar(\"Fer\")\n",
    "miTablita.insertar(\"Dara\")"
   ]
  },
  {
   "cell_type": "code",
   "execution_count": 23,
   "id": "bb44a55e",
   "metadata": {},
   "outputs": [
    {
     "name": "stdout",
     "output_type": "stream",
     "text": [
      "20:Fer\n",
      "30:Ernesto\n",
      "47:Paco\n",
      "53:Rafa\n",
      "57:Pato\n",
      "68:Sebastian\n",
      "78:Dara\n",
      "86:Ruben\n",
      "\n"
     ]
    }
   ],
   "source": [
    "print(miTablita)"
   ]
  },
  {
   "cell_type": "markdown",
   "id": "2f6b94e5",
   "metadata": {},
   "source": [
    "# 2. Instrucciones"
   ]
  },
  {
   "cell_type": "markdown",
   "id": "f91a022b",
   "metadata": {},
   "source": [
    "Después de tener implementadas las tablas de hash se debe diseñar y realizar una serie de experimentos \n",
    "que permita medir tiempos de ejecución (y cualquier \n",
    "otro parámetro relevante) para: \n",
    "    \n",
    "    (a) obtener un entendimiento detallado del funcionamiento de las tablas de hash bajo la estrategia de encadenamiento separado para el manejo de colisiones, y \n",
    "    \n",
    "    (b) comparar las implementaciones en Python y Java entre sí. "
   ]
  },
  {
   "cell_type": "markdown",
   "id": "bb66cef2",
   "metadata": {},
   "source": [
    "Algunos parámetros que deben variar (deben estar contemplados dentro del diseño de la serie de experimentos) \n",
    "para obtener suficientes datos para poder llegar a conclusiones generales son: \n",
    "\n",
    "    (a) la cantidad de datos con los que se alimente la tabla de hash, n, en relación con el tamaño de la misma, m (n mucho mayor a m vs. n aproximadamente igual a m vs. n mucho menor que m), \n",
    "    (b) el tipo de operación a realizar sobre la tabla de hash (inserción de datos vs. búsqueda de datos vs. eliminación de datos), y \n",
    "    (c) cualquier otro que se les ocurra que permita explorar algún aspecto de las tablas de hash y/o el método de encadenamiento separado para el manejo de colisiones. "
   ]
  },
  {
   "cell_type": "markdown",
   "id": "c762a3cb",
   "metadata": {},
   "source": [
    "Dado que las tablas de hash están diseñadas para almacenar grandes cantidades de información tal que el acceso a dicha \n",
    "información sea eficiente, busquen en Internet para ver si encuentran alguna fuente de grandes \n",
    "cantidades de datos os experimentos "
   ]
  },
  {
   "cell_type": "markdown",
   "id": "97fb5d31",
   "metadata": {},
   "source": [
    "# 3. Implementacion de la clase lectora del CSV "
   ]
  },
  {
   "cell_type": "code",
   "execution_count": 6,
   "id": "49c0116e",
   "metadata": {},
   "outputs": [],
   "source": [
    "import csv\n",
    "class Lectura_de_datos:\n",
    "    def __init__(self, ubicacion_archivo): \n",
    "        self.ubicacion_archivo = ubicacion_archivo\n",
    "        self.archivo_csv = []\n",
    "        \n",
    "        \n",
    "        \n",
    "        with open('county_demographics', mode ='r')as file:\n",
    "            self.archivo_csv = csv.reader(file)\n",
    "        \n",
    "        for lines in self.archivo_csv:\n",
    "            print(lines)\n"
   ]
  },
  {
   "cell_type": "code",
   "execution_count": 8,
   "id": "3897c732",
   "metadata": {},
   "outputs": [
    {
     "ename": "SyntaxError",
     "evalue": "(unicode error) 'unicodeescape' codec can't decode bytes in position 2-3: truncated \\UXXXXXXXX escape (<ipython-input-8-34055b35e38b>, line 1)",
     "output_type": "error",
     "traceback": [
      "\u001b[1;36m  File \u001b[1;32m\"<ipython-input-8-34055b35e38b>\"\u001b[1;36m, line \u001b[1;32m1\u001b[0m\n\u001b[1;33m    ubicacion = \"C:\\Users\\RROBLESMAR\\Documents\\Untitled Folder\\county_demographics.csv\"\u001b[0m\n\u001b[1;37m                ^\u001b[0m\n\u001b[1;31mSyntaxError\u001b[0m\u001b[1;31m:\u001b[0m (unicode error) 'unicodeescape' codec can't decode bytes in position 2-3: truncated \\UXXXXXXXX escape\n"
     ]
    }
   ],
   "source": [
    "ubicacion = \"C:\\Users\\RROBLESMAR\\Documents\\Untitled Folder\\county_demographics.csv\"\n",
    "mi_archivo = Lectura_de_datos(ubicacion)\n",
    "mi_archivo.imprimir()"
   ]
  },
  {
   "cell_type": "code",
   "execution_count": 36,
   "id": "6581a636",
   "metadata": {},
   "outputs": [
    {
     "name": "stdout",
     "output_type": "stream",
     "text": [
      "None\n"
     ]
    }
   ],
   "source": []
  },
  {
   "cell_type": "code",
   "execution_count": null,
   "id": "6bb85323",
   "metadata": {},
   "outputs": [],
   "source": []
  }
 ],
 "metadata": {
  "kernelspec": {
   "display_name": "Python 3",
   "language": "python",
   "name": "python3"
  },
  "language_info": {
   "codemirror_mode": {
    "name": "ipython",
    "version": 3
   },
   "file_extension": ".py",
   "mimetype": "text/x-python",
   "name": "python",
   "nbconvert_exporter": "python",
   "pygments_lexer": "ipython3",
   "version": "3.8.8"
  }
 },
 "nbformat": 4,
 "nbformat_minor": 5
}
